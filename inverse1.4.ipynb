{
 "cells": [
  {
   "cell_type": "code",
   "execution_count": null,
   "metadata": {
    "collapsed": true
   },
   "outputs": [],
   "source": [
    "import copy\n",
    "\n",
    "zeroL =[]\n",
    "firL =[]\n",
    "secL =[]\n",
    "with open('output.rwv1', 'r') as fin:\n",
    "  \n",
    "    first_line = fin.readline()\n",
    "    second_line = fin.readline()\n",
    "    third_line = fin.readline()\n",
    "    width,height = second_line.split()\n",
    "    width = int(width)\n",
    "    height = int(height)\n",
    "\n",
    "    for line in fin:\n",
    "        zeroL.append(float(line))\n",
    "#done reading\n",
    "\n",
    "print(width)\n",
    "\n",
    "for j in range (0,128):\n",
    "    for i in range(0,256*3):\n",
    "        firL.append(zeroL[i+j*width*3]+zeroL[i+j*width*3+width*128*3])\n",
    "    for i in range(0,256*3):\n",
    "        firL.append(zeroL[i+j*width*3]-zeroL[i+j*width*3+width*128*3])\n",
    "print(len(firL))       \n",
    "            \n",
    "for j in range(0,256):\n",
    "    for i in range(0,128):\n",
    "        for k in range(0,3):\n",
    "            secL.append(firL[k+i*3+j*width*3]+firL[int(k+i*3+width*3/2+j*width*3)])         \n",
    "        for k in range(0,3):\n",
    "            secL.append(firL[k+i*3+j*width*3]-firL[int(k+i*3+width*3/2+j*width*3)])\n",
    "\n",
    "\n",
    "\n",
    "with open('inverse1.2.ppm', 'w') as fout:\n",
    "    fout.write(\"P3\\n\")\n",
    "    fout.write(str(width))\n",
    "    fout.write(\" \")\n",
    "    fout.write(str(height)+\"\\n\")\n",
    "    \n",
    "    fout.write(third_line)\n",
    "    for i in range(len(secL)):\n",
    "        fout.write(str(int(secL[i]))+\"\\n\")\n",
    "print(len(secL))\n",
    "print(\"done writing\")\n",
    "print(\"inverse1.2 is the original image\")\n"
   ]
  }
 ],
 "metadata": {
  "kernelspec": {
   "display_name": "Python 3",
   "language": "python",
   "name": "python3"
  },
  "language_info": {
   "codemirror_mode": {
    "name": "ipython",
    "version": 3
   },
   "file_extension": ".py",
   "mimetype": "text/x-python",
   "name": "python",
   "nbconvert_exporter": "python",
   "pygments_lexer": "ipython3",
   "version": "3.6.3"
  }
 },
 "nbformat": 4,
 "nbformat_minor": 2
}
