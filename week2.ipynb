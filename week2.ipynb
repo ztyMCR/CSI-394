{
 "cells": [
  {
   "cell_type": "code",
   "execution_count": 21,
   "metadata": {},
   "outputs": [
    {
     "name": "stdout",
     "output_type": "stream",
     "text": [
      "The first line is P3\n",
      "\n",
      "The second line is 256 256\n",
      "\n",
      "The third line is 255\n",
      "\n",
      "There are 196608 numbers\n",
      "98304\n",
      "done\n",
      "done writing\n"
     ]
    }
   ],
   "source": [
    "\n",
    "n = 0\n",
    "a = 0\n",
    "b = 0\n",
    "i = 1\n",
    "avg = 0\n",
    "total = 0\n",
    "avgPairList = []\n",
    "tempR = 0\n",
    "tempG = 0\n",
    "tempB = 0\n",
    "with open('check.ppm', 'r') as fin:\n",
    "  \n",
    "  first_line = fin.readline()\n",
    "  second_line = fin.readline()\n",
    "  third_line = fin.readline()\n",
    "  print (\"The first line is \"+ first_line)\n",
    "  print (\"The second line is \" + second_line)\n",
    "  print (\"The third line is \"+ third_line)\n",
    "  for line in fin:\n",
    "   \n",
    "      num = int(line) \n",
    "      if i == 1:\n",
    "        tempR = num\n",
    "        i = i+1\n",
    "      elif i == 2:\n",
    "        tempG = num\n",
    "        i = i+1\n",
    "      elif i ==3:\n",
    "        tempB = num\n",
    "        i = i+1\n",
    "      elif i == 4:\n",
    "        avg = (tempR+num)/2\n",
    "        avgPairList.append(int(avg))\n",
    "        i = i+1\n",
    "      elif i == 5:\n",
    "        avg = (tempG+num)/2\n",
    "        avgPairList.append(int(avg))\n",
    "        i = i+1\n",
    "      elif i == 6:\n",
    "        avg = (tempB+num)/2\n",
    "        avgPairList.append(int(avg))\n",
    "        i = 1\n",
    "    \n",
    "      #print (num)\n",
    "      \n",
    "      n = n+1  \n",
    "print(\"There are \" + str(n) +\" numbers\")\n",
    "print(len(avgPairList))\n",
    "\n",
    "#for i in range(len(avgPairList)):\n",
    "#     print( avgPairList[i] )\n",
    "\n",
    "print(\"done\")\n",
    "        \n",
    "with open('output.ppm', 'w') as fout:\n",
    "    fout.write(first_line)\n",
    "    fout.write(\"128 256\\n\")\n",
    "    fout.write(third_line)\n",
    "    for i in range(len(avgPairList)):\n",
    "        fout.write(str(avgPairList[i])+\"\\n\")\n",
    "        \n",
    "print(\"done writing\")"
   ]
  },
  {
   "cell_type": "code",
   "execution_count": null,
   "metadata": {
    "collapsed": true
   },
   "outputs": [],
   "source": []
  },
  {
   "cell_type": "code",
   "execution_count": null,
   "metadata": {
    "collapsed": true
   },
   "outputs": [],
   "source": []
  }
 ],
 "metadata": {
  "kernelspec": {
   "display_name": "Python 3",
   "language": "python",
   "name": "python3"
  },
  "language_info": {
   "codemirror_mode": {
    "name": "ipython",
    "version": 3
   },
   "file_extension": ".py",
   "mimetype": "text/x-python",
   "name": "python",
   "nbconvert_exporter": "python",
   "pygments_lexer": "ipython3",
   "version": "3.6.3"
  }
 },
 "nbformat": 4,
 "nbformat_minor": 2
}
