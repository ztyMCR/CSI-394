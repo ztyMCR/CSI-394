{
 "cells": [
  {
   "cell_type": "code",
   "execution_count": 19,
   "metadata": {},
   "outputs": [
    {
     "name": "stdout",
     "output_type": "stream",
     "text": [
      "The first line is RLE1\n",
      "\n",
      "The second line is 256 256\n",
      "\n",
      "The third line is 255\n",
      "\n",
      "width is 256  and height is 256\n",
      "the length of zeroL is  102888\n",
      "the length of firL is  196608\n"
     ]
    }
   ],
   "source": [
    "zeroL=[]\n",
    "firL = []\n",
    "NOZ = 0\n",
    "i =0\n",
    "def printRWV1():\n",
    "    with open('rwv1FromRLE.ppm', 'w') as fout:\n",
    "        fout.write(\"P3\\n\")\n",
    "        fout.write(str(width))\n",
    "        fout.write(\" \")\n",
    "        fout.write(str(height)+\"\\n\")  \n",
    "        fout.write(third_line)\n",
    "        for i in range(len(firL)):\n",
    "            fout.write(str(firL[i])+\"\\n\")\n",
    "with open('outputRLE.txt', 'r') as fin:\n",
    "    first_line = fin.readline()\n",
    "    second_line = fin.readline()\n",
    "    third_line = fin.readline()\n",
    "    print (\"The first line is \"+ first_line)\n",
    "    print (\"The second line is \" + second_line)\n",
    "    print (\"The third line is \"+ third_line)\n",
    "    width,height = second_line.split()\n",
    "    print (\"width is\", width ,\" and height is\", height)\n",
    "    for line in fin:\n",
    "        zeroL.append(float(line))\n",
    "print(\"the length of zeroL is \",len(zeroL))\n",
    "while(i<len(zeroL)):\n",
    "    #print(\"the current number is \", zeroL[i])\n",
    "    if(zeroL[i]==0):\n",
    "        NOZ = int(zeroL[i+1])\n",
    "        #print(\"NOZ is \",NOZ)\n",
    "        for j in range(0,NOZ):\n",
    "            firL.append(0)\n",
    "        i = i+1\n",
    "    else:\n",
    "        firL.append(zeroL[i])\n",
    "    i = i+1\n",
    "\n",
    "        \n",
    "print(\"the length of firL is \",len(firL))\n",
    "printRWV1()"
   ]
  },
  {
   "cell_type": "code",
   "execution_count": null,
   "metadata": {
    "collapsed": true
   },
   "outputs": [],
   "source": []
  }
 ],
 "metadata": {
  "kernelspec": {
   "display_name": "Python 3",
   "language": "python",
   "name": "python3"
  },
  "language_info": {
   "codemirror_mode": {
    "name": "ipython",
    "version": 3
   },
   "file_extension": ".py",
   "mimetype": "text/x-python",
   "name": "python",
   "nbconvert_exporter": "python",
   "pygments_lexer": "ipython3",
   "version": "3.6.3"
  }
 },
 "nbformat": 4,
 "nbformat_minor": 2
}
