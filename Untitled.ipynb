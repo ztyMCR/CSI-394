{
 "cells": [
  {
   "cell_type": "code",
   "execution_count": 30,
   "metadata": {},
   "outputs": [
    {
     "name": "stdout",
     "output_type": "stream",
     "text": [
      "Hellow World!\n",
      "3\n",
      "4\n",
      "5\n",
      "6\n",
      "8\n",
      "9\n",
      "2\n",
      "6\n",
      "7\n",
      "6\n",
      "There are 10 numbers\n",
      "The average is 5.6\n",
      "3.5\n",
      "5.5\n",
      "8.5\n",
      "4.0\n",
      "6.5\n"
     ]
    }
   ],
   "source": [
    "print ('Hellow World!')\n",
    "\n",
    "n = 0\n",
    "a = 0\n",
    "b = 0\n",
    "i = 1\n",
    "avg = 0\n",
    "total = 0\n",
    "avgPairList = []\n",
    "with open('untitled.txt', 'r') as f:\n",
    "  for line in f:\n",
    "    for s in line.split():\n",
    "      num = int(s) \n",
    "      if i == 1:\n",
    "        a = num\n",
    "        i = i+1\n",
    "      elif i == 2:\n",
    "        b = num\n",
    "        avg = (a+b)/2\n",
    "        avgPairList.append(avg)\n",
    "        i = 1\n",
    "    \n",
    "      print (num)\n",
    "      total = total + num\n",
    "      n = n+1  \n",
    "print(\"There are \" + str(n) +\" numbers\")\n",
    "print(\"The average is \" + str(total/n))\n",
    "\n",
    "for i in range(len(avgPairList)):\n",
    "     print( avgPairList[i] )"
   ]
  },
  {
   "cell_type": "code",
   "execution_count": null,
   "metadata": {
    "collapsed": true
   },
   "outputs": [],
   "source": []
  },
  {
   "cell_type": "code",
   "execution_count": null,
   "metadata": {
    "collapsed": true
   },
   "outputs": [],
   "source": []
  }
 ],
 "metadata": {
  "kernelspec": {
   "display_name": "Python 3",
   "language": "python",
   "name": "python3"
  },
  "language_info": {
   "codemirror_mode": {
    "name": "ipython",
    "version": 3
   },
   "file_extension": ".py",
   "mimetype": "text/x-python",
   "name": "python",
   "nbconvert_exporter": "python",
   "pygments_lexer": "ipython3",
   "version": "3.6.3"
  }
 },
 "nbformat": 4,
 "nbformat_minor": 2
}
